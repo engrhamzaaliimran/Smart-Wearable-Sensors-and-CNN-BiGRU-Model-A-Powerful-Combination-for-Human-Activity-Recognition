{
  "nbformat": 4,
  "nbformat_minor": 0,
  "metadata": {
    "colab": {
      "provenance": []
    },
    "kernelspec": {
      "name": "python3",
      "display_name": "Python 3"
    },
    "accelerator": "GPU"
  },
  "cells": [
    {
      "cell_type": "code",
      "metadata": {
        "id": "h1av9UbLhv2f",
        "colab": {
          "base_uri": "https://localhost:8080/"
        },
        "outputId": "4bb55824-bd3a-4164-c12b-bcae8f16e6a5"
      },
      "source": [
        "from google.colab import drive\n",
        "drive.mount('/content/gdrive')"
      ],
      "execution_count": 1,
      "outputs": [
        {
          "output_type": "stream",
          "name": "stdout",
          "text": [
            "Mounted at /content/gdrive\n"
          ]
        }
      ]
    },
    {
      "cell_type": "code",
      "metadata": {
        "id": "BRjeg7-FnmX1"
      },
      "source": [
        "from keras import models\n",
        "from keras.models import Model\n",
        "from keras.layers import Input\n",
        "import tensorflow\n",
        "from numpy import mean\n",
        "from numpy import std\n",
        "from numpy import dstack\n",
        "from pandas import read_csv\n",
        "from matplotlib import pyplot\n",
        "from keras.models import Sequential\n",
        "from keras.layers import Dense\n",
        "from keras.layers import Flatten\n",
        "from __future__ import print_function\n",
        "from matplotlib import pyplot as plt\n",
        "%matplotlib inline\n",
        "import numpy as np\n",
        "import pandas as pd\n",
        "import seaborn as sns\n",
        "from scipy import stats\n",
        "from IPython.display import display, HTML\n",
        "\n",
        "from sklearn import metrics\n",
        "from sklearn.metrics import classification_report\n",
        "from sklearn import preprocessing\n",
        "\n",
        "from keras.models import Sequential\n",
        "from keras.layers import Dense, Dropout, Flatten, Reshape"
      ],
      "execution_count": 2,
      "outputs": []
    },
    {
      "cell_type": "code",
      "metadata": {
        "id": "yX9uvFMGcwcz"
      },
      "source": [
        "# Set some standard parameters upfront\n",
        "pd.options.display.float_format = '{:.1f}'.format\n",
        "sns.set() # Default seaborn look and feel\n",
        "plt.style.use('ggplot')\n",
        "# Same labels will be reused throughout the program\n",
        "# LABELS = ['hot',\n",
        "#           'cold']\n",
        "# The number of steps within one time segment\n",
        "TIME_PERIODS = 256\n",
        "# The steps to take from one segment to the next; if this value is equal to\n",
        "# TIME_PERIODS, then there is no overlap between the segments\n",
        "STEP_DISTANCE = 16"
      ],
      "execution_count": 4,
      "outputs": []
    },
    {
      "cell_type": "code",
      "metadata": {
        "id": "FaMrP7VXnroH"
      },
      "source": [
        "df = pd.read_csv(\"gdrive/MyDrive/HARDatasets/WISDM2011.csv\")"
      ],
      "execution_count": 5,
      "outputs": []
    },
    {
      "cell_type": "code",
      "metadata": {
        "id": "mG4Dn-oao-yy",
        "colab": {
          "base_uri": "https://localhost:8080/",
          "height": 206
        },
        "outputId": "6924e85e-c44b-4e7a-a16e-40b25b0daaaa"
      },
      "source": [
        "df.head(5)"
      ],
      "execution_count": 6,
      "outputs": [
        {
          "output_type": "execute_result",
          "data": {
            "text/plain": [
              "   user-id activity       timestamp   ax   ay   az  AccMag_sub9_8\n",
              "0       33  Jogging  49105962326000 -0.7 12.7  0.5            2.9\n",
              "1       33  Jogging  49106062271000  5.0 11.3  1.0            2.6\n",
              "2       33  Jogging  49106112167000  4.9 10.9 -0.1            2.1\n",
              "3       33  Jogging  49106222305000 -0.6 18.5  3.0            9.0\n",
              "4       33  Jogging  49106332290000 -1.2 12.1  7.2            4.3"
            ],
            "text/html": [
              "\n",
              "  <div id=\"df-f5b05857-b597-4819-8419-97462261794b\" class=\"colab-df-container\">\n",
              "    <div>\n",
              "<style scoped>\n",
              "    .dataframe tbody tr th:only-of-type {\n",
              "        vertical-align: middle;\n",
              "    }\n",
              "\n",
              "    .dataframe tbody tr th {\n",
              "        vertical-align: top;\n",
              "    }\n",
              "\n",
              "    .dataframe thead th {\n",
              "        text-align: right;\n",
              "    }\n",
              "</style>\n",
              "<table border=\"1\" class=\"dataframe\">\n",
              "  <thead>\n",
              "    <tr style=\"text-align: right;\">\n",
              "      <th></th>\n",
              "      <th>user-id</th>\n",
              "      <th>activity</th>\n",
              "      <th>timestamp</th>\n",
              "      <th>ax</th>\n",
              "      <th>ay</th>\n",
              "      <th>az</th>\n",
              "      <th>AccMag_sub9_8</th>\n",
              "    </tr>\n",
              "  </thead>\n",
              "  <tbody>\n",
              "    <tr>\n",
              "      <th>0</th>\n",
              "      <td>33</td>\n",
              "      <td>Jogging</td>\n",
              "      <td>49105962326000</td>\n",
              "      <td>-0.7</td>\n",
              "      <td>12.7</td>\n",
              "      <td>0.5</td>\n",
              "      <td>2.9</td>\n",
              "    </tr>\n",
              "    <tr>\n",
              "      <th>1</th>\n",
              "      <td>33</td>\n",
              "      <td>Jogging</td>\n",
              "      <td>49106062271000</td>\n",
              "      <td>5.0</td>\n",
              "      <td>11.3</td>\n",
              "      <td>1.0</td>\n",
              "      <td>2.6</td>\n",
              "    </tr>\n",
              "    <tr>\n",
              "      <th>2</th>\n",
              "      <td>33</td>\n",
              "      <td>Jogging</td>\n",
              "      <td>49106112167000</td>\n",
              "      <td>4.9</td>\n",
              "      <td>10.9</td>\n",
              "      <td>-0.1</td>\n",
              "      <td>2.1</td>\n",
              "    </tr>\n",
              "    <tr>\n",
              "      <th>3</th>\n",
              "      <td>33</td>\n",
              "      <td>Jogging</td>\n",
              "      <td>49106222305000</td>\n",
              "      <td>-0.6</td>\n",
              "      <td>18.5</td>\n",
              "      <td>3.0</td>\n",
              "      <td>9.0</td>\n",
              "    </tr>\n",
              "    <tr>\n",
              "      <th>4</th>\n",
              "      <td>33</td>\n",
              "      <td>Jogging</td>\n",
              "      <td>49106332290000</td>\n",
              "      <td>-1.2</td>\n",
              "      <td>12.1</td>\n",
              "      <td>7.2</td>\n",
              "      <td>4.3</td>\n",
              "    </tr>\n",
              "  </tbody>\n",
              "</table>\n",
              "</div>\n",
              "    <div class=\"colab-df-buttons\">\n",
              "\n",
              "  <div class=\"colab-df-container\">\n",
              "    <button class=\"colab-df-convert\" onclick=\"convertToInteractive('df-f5b05857-b597-4819-8419-97462261794b')\"\n",
              "            title=\"Convert this dataframe to an interactive table.\"\n",
              "            style=\"display:none;\">\n",
              "\n",
              "  <svg xmlns=\"http://www.w3.org/2000/svg\" height=\"24px\" viewBox=\"0 -960 960 960\">\n",
              "    <path d=\"M120-120v-720h720v720H120Zm60-500h600v-160H180v160Zm220 220h160v-160H400v160Zm0 220h160v-160H400v160ZM180-400h160v-160H180v160Zm440 0h160v-160H620v160ZM180-180h160v-160H180v160Zm440 0h160v-160H620v160Z\"/>\n",
              "  </svg>\n",
              "    </button>\n",
              "\n",
              "  <style>\n",
              "    .colab-df-container {\n",
              "      display:flex;\n",
              "      gap: 12px;\n",
              "    }\n",
              "\n",
              "    .colab-df-convert {\n",
              "      background-color: #E8F0FE;\n",
              "      border: none;\n",
              "      border-radius: 50%;\n",
              "      cursor: pointer;\n",
              "      display: none;\n",
              "      fill: #1967D2;\n",
              "      height: 32px;\n",
              "      padding: 0 0 0 0;\n",
              "      width: 32px;\n",
              "    }\n",
              "\n",
              "    .colab-df-convert:hover {\n",
              "      background-color: #E2EBFA;\n",
              "      box-shadow: 0px 1px 2px rgba(60, 64, 67, 0.3), 0px 1px 3px 1px rgba(60, 64, 67, 0.15);\n",
              "      fill: #174EA6;\n",
              "    }\n",
              "\n",
              "    .colab-df-buttons div {\n",
              "      margin-bottom: 4px;\n",
              "    }\n",
              "\n",
              "    [theme=dark] .colab-df-convert {\n",
              "      background-color: #3B4455;\n",
              "      fill: #D2E3FC;\n",
              "    }\n",
              "\n",
              "    [theme=dark] .colab-df-convert:hover {\n",
              "      background-color: #434B5C;\n",
              "      box-shadow: 0px 1px 3px 1px rgba(0, 0, 0, 0.15);\n",
              "      filter: drop-shadow(0px 1px 2px rgba(0, 0, 0, 0.3));\n",
              "      fill: #FFFFFF;\n",
              "    }\n",
              "  </style>\n",
              "\n",
              "    <script>\n",
              "      const buttonEl =\n",
              "        document.querySelector('#df-f5b05857-b597-4819-8419-97462261794b button.colab-df-convert');\n",
              "      buttonEl.style.display =\n",
              "        google.colab.kernel.accessAllowed ? 'block' : 'none';\n",
              "\n",
              "      async function convertToInteractive(key) {\n",
              "        const element = document.querySelector('#df-f5b05857-b597-4819-8419-97462261794b');\n",
              "        const dataTable =\n",
              "          await google.colab.kernel.invokeFunction('convertToInteractive',\n",
              "                                                    [key], {});\n",
              "        if (!dataTable) return;\n",
              "\n",
              "        const docLinkHtml = 'Like what you see? Visit the ' +\n",
              "          '<a target=\"_blank\" href=https://colab.research.google.com/notebooks/data_table.ipynb>data table notebook</a>'\n",
              "          + ' to learn more about interactive tables.';\n",
              "        element.innerHTML = '';\n",
              "        dataTable['output_type'] = 'display_data';\n",
              "        await google.colab.output.renderOutput(dataTable, element);\n",
              "        const docLink = document.createElement('div');\n",
              "        docLink.innerHTML = docLinkHtml;\n",
              "        element.appendChild(docLink);\n",
              "      }\n",
              "    </script>\n",
              "  </div>\n",
              "\n",
              "\n",
              "<div id=\"df-50551755-4464-4639-8167-11149475e6ee\">\n",
              "  <button class=\"colab-df-quickchart\" onclick=\"quickchart('df-50551755-4464-4639-8167-11149475e6ee')\"\n",
              "            title=\"Suggest charts\"\n",
              "            style=\"display:none;\">\n",
              "\n",
              "<svg xmlns=\"http://www.w3.org/2000/svg\" height=\"24px\"viewBox=\"0 0 24 24\"\n",
              "     width=\"24px\">\n",
              "    <g>\n",
              "        <path d=\"M19 3H5c-1.1 0-2 .9-2 2v14c0 1.1.9 2 2 2h14c1.1 0 2-.9 2-2V5c0-1.1-.9-2-2-2zM9 17H7v-7h2v7zm4 0h-2V7h2v10zm4 0h-2v-4h2v4z\"/>\n",
              "    </g>\n",
              "</svg>\n",
              "  </button>\n",
              "\n",
              "<style>\n",
              "  .colab-df-quickchart {\n",
              "      --bg-color: #E8F0FE;\n",
              "      --fill-color: #1967D2;\n",
              "      --hover-bg-color: #E2EBFA;\n",
              "      --hover-fill-color: #174EA6;\n",
              "      --disabled-fill-color: #AAA;\n",
              "      --disabled-bg-color: #DDD;\n",
              "  }\n",
              "\n",
              "  [theme=dark] .colab-df-quickchart {\n",
              "      --bg-color: #3B4455;\n",
              "      --fill-color: #D2E3FC;\n",
              "      --hover-bg-color: #434B5C;\n",
              "      --hover-fill-color: #FFFFFF;\n",
              "      --disabled-bg-color: #3B4455;\n",
              "      --disabled-fill-color: #666;\n",
              "  }\n",
              "\n",
              "  .colab-df-quickchart {\n",
              "    background-color: var(--bg-color);\n",
              "    border: none;\n",
              "    border-radius: 50%;\n",
              "    cursor: pointer;\n",
              "    display: none;\n",
              "    fill: var(--fill-color);\n",
              "    height: 32px;\n",
              "    padding: 0;\n",
              "    width: 32px;\n",
              "  }\n",
              "\n",
              "  .colab-df-quickchart:hover {\n",
              "    background-color: var(--hover-bg-color);\n",
              "    box-shadow: 0 1px 2px rgba(60, 64, 67, 0.3), 0 1px 3px 1px rgba(60, 64, 67, 0.15);\n",
              "    fill: var(--button-hover-fill-color);\n",
              "  }\n",
              "\n",
              "  .colab-df-quickchart-complete:disabled,\n",
              "  .colab-df-quickchart-complete:disabled:hover {\n",
              "    background-color: var(--disabled-bg-color);\n",
              "    fill: var(--disabled-fill-color);\n",
              "    box-shadow: none;\n",
              "  }\n",
              "\n",
              "  .colab-df-spinner {\n",
              "    border: 2px solid var(--fill-color);\n",
              "    border-color: transparent;\n",
              "    border-bottom-color: var(--fill-color);\n",
              "    animation:\n",
              "      spin 1s steps(1) infinite;\n",
              "  }\n",
              "\n",
              "  @keyframes spin {\n",
              "    0% {\n",
              "      border-color: transparent;\n",
              "      border-bottom-color: var(--fill-color);\n",
              "      border-left-color: var(--fill-color);\n",
              "    }\n",
              "    20% {\n",
              "      border-color: transparent;\n",
              "      border-left-color: var(--fill-color);\n",
              "      border-top-color: var(--fill-color);\n",
              "    }\n",
              "    30% {\n",
              "      border-color: transparent;\n",
              "      border-left-color: var(--fill-color);\n",
              "      border-top-color: var(--fill-color);\n",
              "      border-right-color: var(--fill-color);\n",
              "    }\n",
              "    40% {\n",
              "      border-color: transparent;\n",
              "      border-right-color: var(--fill-color);\n",
              "      border-top-color: var(--fill-color);\n",
              "    }\n",
              "    60% {\n",
              "      border-color: transparent;\n",
              "      border-right-color: var(--fill-color);\n",
              "    }\n",
              "    80% {\n",
              "      border-color: transparent;\n",
              "      border-right-color: var(--fill-color);\n",
              "      border-bottom-color: var(--fill-color);\n",
              "    }\n",
              "    90% {\n",
              "      border-color: transparent;\n",
              "      border-bottom-color: var(--fill-color);\n",
              "    }\n",
              "  }\n",
              "</style>\n",
              "\n",
              "  <script>\n",
              "    async function quickchart(key) {\n",
              "      const quickchartButtonEl =\n",
              "        document.querySelector('#' + key + ' button');\n",
              "      quickchartButtonEl.disabled = true;  // To prevent multiple clicks.\n",
              "      quickchartButtonEl.classList.add('colab-df-spinner');\n",
              "      try {\n",
              "        const charts = await google.colab.kernel.invokeFunction(\n",
              "            'suggestCharts', [key], {});\n",
              "      } catch (error) {\n",
              "        console.error('Error during call to suggestCharts:', error);\n",
              "      }\n",
              "      quickchartButtonEl.classList.remove('colab-df-spinner');\n",
              "      quickchartButtonEl.classList.add('colab-df-quickchart-complete');\n",
              "    }\n",
              "    (() => {\n",
              "      let quickchartButtonEl =\n",
              "        document.querySelector('#df-50551755-4464-4639-8167-11149475e6ee button');\n",
              "      quickchartButtonEl.style.display =\n",
              "        google.colab.kernel.accessAllowed ? 'block' : 'none';\n",
              "    })();\n",
              "  </script>\n",
              "</div>\n",
              "\n",
              "    </div>\n",
              "  </div>\n"
            ],
            "application/vnd.google.colaboratory.intrinsic+json": {
              "type": "dataframe",
              "variable_name": "df"
            }
          },
          "metadata": {},
          "execution_count": 6
        }
      ]
    },
    {
      "cell_type": "code",
      "metadata": {
        "id": "IRmDZCByrx_m",
        "colab": {
          "base_uri": "https://localhost:8080/",
          "height": 528
        },
        "outputId": "78e67377-f0d6-43ef-eb22-b0aa1a383373"
      },
      "source": [
        "# Show how many training examples exist for each of the six activities\n",
        "df['activity'].value_counts().plot(kind='bar', title='Training Examples by Emotion Type')\n",
        "plt.show()"
      ],
      "execution_count": 7,
      "outputs": [
        {
          "output_type": "display_data",
          "data": {
            "text/plain": [
              "<Figure size 640x480 with 1 Axes>"
            ],
            "image/png": "[encoded data removed]"
          },
          "metadata": {}
        }
      ]
    },
    {
      "cell_type": "code",
      "metadata": {
        "id": "riMTycnP7Cvy",
        "colab": {
          "base_uri": "https://localhost:8080/"
        },
        "outputId": "f2b4f7c2-cfa8-4811-a16a-11537b8be549"
      },
      "source": [
        "df['activity'].value_counts()"
      ],
      "execution_count": 8,
      "outputs": [
        {
          "output_type": "execute_result",
          "data": {
            "text/plain": [
              "Walking       406775\n",
              "Jogging       325975\n",
              "Upstairs      118589\n",
              "Downstairs     97813\n",
              "Sitting        54876\n",
              "Standing       44547\n",
              "Name: activity, dtype: int64"
            ]
          },
          "metadata": {},
          "execution_count": 8
        }
      ]
    },
    {
      "cell_type": "code",
      "metadata": {
        "id": "AEFqZuyGx0tL"
      },
      "source": [
        "# Define column name of the label vector\n",
        "LABEL = 'activity'\n",
        "# Transform the labels from String to Integer via LabelEncoder\n",
        "le = preprocessing.LabelEncoder()\n",
        "# Add a new column to the existing DataFrame with the encoded values\n",
        "df[LABEL] = le.fit_transform(df['activity'].values.ravel())"
      ],
      "execution_count": 9,
      "outputs": []
    },
    {
      "cell_type": "code",
      "metadata": {
        "colab": {
          "base_uri": "https://localhost:8080/"
        },
        "id": "So5z88rnaOLs",
        "outputId": "547100b3-1d7f-4e05-d44a-0f8b398380a3"
      },
      "source": [
        "df.info()"
      ],
      "execution_count": 10,
      "outputs": [
        {
          "output_type": "stream",
          "name": "stdout",
          "text": [
            "<class 'pandas.core.frame.DataFrame'>\n",
            "RangeIndex: 1048575 entries, 0 to 1048574\n",
            "Data columns (total 7 columns):\n",
            " #   Column         Non-Null Count    Dtype  \n",
            "---  ------         --------------    -----  \n",
            " 0   user-id        1048575 non-null  int64  \n",
            " 1   activity       1048575 non-null  int64  \n",
            " 2   timestamp      1048575 non-null  int64  \n",
            " 3   ax             1048575 non-null  float64\n",
            " 4   ay             1048575 non-null  float64\n",
            " 5   az             1048575 non-null  float64\n",
            " 6   AccMag_sub9_8  1048575 non-null  float64\n",
            "dtypes: float64(4), int64(3)\n",
            "memory usage: 56.0 MB\n"
          ]
        }
      ]
    },
    {
      "cell_type": "code",
      "metadata": {
        "id": "zp2_tzpqaWDp"
      },
      "source": [
        "#df['MagAcc'] = df['MagAcc'] -   df['MagAcc'].mean() / df['MagAcc'].std()\n",
        "df['AccMag_sub9_8'] = df['AccMag_sub9_8'] -  df['AccMag_sub9_8'].mean()  / df['AccMag_sub9_8'].std()"
      ],
      "execution_count": 11,
      "outputs": []
    },
    {
      "cell_type": "code",
      "metadata": {
        "id": "fFzlyGqlW-Zk",
        "colab": {
          "base_uri": "https://localhost:8080/"
        },
        "outputId": "daf5154f-a5d1-443c-ebc9-09bdb093089a"
      },
      "source": [
        "import numpy as np\n",
        "import pandas as pd\n",
        "\n",
        "def create_segments_and_labels(df, time_steps, step, label_name):\n",
        "    # Number of features\n",
        "    N_FEATURES = 1\n",
        "\n",
        "    segments = []\n",
        "    labels = []\n",
        "\n",
        "    for i in range(0, len(df) - time_steps, step):\n",
        "        # Extract segments for each axis\n",
        "        segment_AccMag = df[\"AccMag_sub9_8\"].values[i: i + time_steps]\n",
        "\n",
        "        # Mode of labels within the segment\n",
        "        label = df[label_name][i: i + time_steps].mode()[0]\n",
        "\n",
        "        # Append segment and label\n",
        "        segments.append([segment_AccMag])\n",
        "        labels.append(label)\n",
        "\n",
        "    # Reshape segments\n",
        "    reshaped_segments = np.asarray(segments, dtype=np.float32).reshape(-1, time_steps, N_FEATURES)\n",
        "    labels = np.asarray(labels)\n",
        "\n",
        "    return reshaped_segments, labels\n",
        "\n",
        "\n",
        "# Example usage\n",
        "x_data, y_data  = create_segments_and_labels(df,\n",
        "                                                                 TIME_PERIODS,\n",
        "                                                                 STEP_DISTANCE,\n",
        "                                                                 LABEL)\n",
        "\n",
        "\n",
        "print (x_data.shape)\n",
        "print(y_data.shape)"
      ],
      "execution_count": 12,
      "outputs": [
        {
          "output_type": "stream",
          "name": "stdout",
          "text": [
            "(65520, 256, 1)\n",
            "(65520,)\n"
          ]
        }
      ]
    },
    {
      "cell_type": "code",
      "metadata": {
        "id": "8WF3FaG-XBoL",
        "colab": {
          "base_uri": "https://localhost:8080/"
        },
        "outputId": "0da7f889-c5ab-4638-e6fd-0977be9bd752"
      },
      "source": [
        "#deviding dataset into 70 % (train) and 30% test chuncks\n",
        "from sklearn.model_selection import train_test_split\n",
        "X_train, X_test, y_train, y_test = train_test_split(x_data, y_data, test_size=0.3, random_state=42)\n",
        "print(X_train.shape, y_train.shape)\n",
        "print(X_test.shape, y_test.shape)"
      ],
      "execution_count": 13,
      "outputs": [
        {
          "output_type": "stream",
          "name": "stdout",
          "text": [
            "(45864, 256, 1) (45864,)\n",
            "(19656, 256, 1) (19656,)\n"
          ]
        }
      ]
    },
    {
      "cell_type": "code",
      "metadata": {
        "id": "_057zpurXCKq",
        "colab": {
          "base_uri": "https://localhost:8080/"
        },
        "outputId": "3fc62ef1-a8bf-464b-a89d-6fdaaf302358"
      },
      "source": [
        "# Set input & output dimensions\n",
        "num_time_periods, num_sensors = X_train.shape[1], X_train.shape[2]\n",
        "num_classes = le.classes_.size\n",
        "labels=list(le.classes_)\n",
        "print(list(le.classes_))"
      ],
      "execution_count": 14,
      "outputs": [
        {
          "output_type": "stream",
          "name": "stdout",
          "text": [
            "['Downstairs', 'Jogging', 'Sitting', 'Standing', 'Upstairs', 'Walking']\n"
          ]
        }
      ]
    },
    {
      "cell_type": "code",
      "metadata": {
        "id": "FHbxueiLXFeK",
        "colab": {
          "base_uri": "https://localhost:8080/"
        },
        "outputId": "b6122cc0-3f34-487e-e633-de3e108eb5d7"
      },
      "source": [
        "# Printing shapes\n",
        "print('X_train shape: ', X_train.shape)\n",
        "print(X_train.shape[0], 'training samples')\n",
        "\n",
        "# One-hot encode labels\n",
        "y_train = np.eye(num_classes)[y_train]\n",
        "print('y_train shape: ', y_train.shape)"
      ],
      "execution_count": 15,
      "outputs": [
        {
          "output_type": "stream",
          "name": "stdout",
          "text": [
            "X_train shape:  (45864, 256, 1)\n",
            "45864 training samples\n",
            "y_train shape:  (45864, 6)\n"
          ]
        }
      ]
    },
    {
      "cell_type": "code",
      "metadata": {
        "id": "F_V9pL_Qcs2m",
        "colab": {
          "base_uri": "https://localhost:8080/"
        },
        "outputId": "2e400839-eb86-4cf9-d597-cd580fb66d17"
      },
      "source": [
        "# Printing shapes\n",
        "print('X_test shape: ', X_test.shape)\n",
        "print(X_train.shape[0], 'training samples')\n",
        "\n",
        "# One-hot encode labels\n",
        "y_test = np.eye(num_classes)[y_test]\n",
        "print('y_train shape: ', y_test.shape)"
      ],
      "execution_count": 16,
      "outputs": [
        {
          "output_type": "stream",
          "name": "stdout",
          "text": [
            "X_test shape:  (19656, 256, 1)\n",
            "45864 training samples\n",
            "y_train shape:  (19656, 6)\n"
          ]
        }
      ]
    },
    {
      "cell_type": "markdown",
      "metadata": {
        "id": "raiFQhxedwV7"
      },
      "source": [
        "#Deep Leanring Model"
      ]
    },
    {
      "cell_type": "code",
      "metadata": {
        "id": "zf5Nu125ZHC_"
      },
      "source": [
        "from keras import models\n",
        "from keras.models import Model\n",
        "from keras.layers import Input\n",
        "import tensorflow\n",
        "# cnn model\n",
        "from numpy import mean\n",
        "from numpy import std\n",
        "from numpy import dstack\n",
        "from pandas import read_csv\n",
        "from matplotlib import pyplot\n",
        "from keras.models import Sequential\n",
        "from keras.layers import Dense\n",
        "from keras.layers import Flatten\n",
        "from keras.layers import Dropout\n",
        "from tensorflow.keras.layers   import Conv1D\n",
        "from tensorflow.keras.layers   import MaxPooling1D\n",
        "from tensorflow.keras.layers import Add\n",
        "\n",
        "from keras import models\n",
        "from keras.models import Model\n",
        "from keras.layers import Input\n",
        "from keras.layers import add\n",
        "from keras.layers import Activation\n",
        "from keras.layers import GRU\n",
        "from keras.layers import LSTM, Bidirectional, BatchNormalization"
      ],
      "execution_count": 17,
      "outputs": []
    },
    {
      "cell_type": "code",
      "metadata": {
        "id": "MScUf_w8sc6v"
      },
      "source": [
        "from keras import models\n",
        "from keras.models import Model\n",
        "from keras.layers import Input,concatenate"
      ],
      "execution_count": 23,
      "outputs": []
    },
    {
      "cell_type": "code",
      "metadata": {
        "id": "0nILep2QaCry"
      },
      "source": [
        "from keras.layers import add\n",
        "from keras.layers import Activation"
      ],
      "execution_count": 19,
      "outputs": []
    },
    {
      "cell_type": "code",
      "source": [
        "from keras.layers import Dense, Dropout\n",
        "from keras.layers import GRU, Bidirectional, TimeDistributed, Activation, LSTM, add,BatchNormalization, GlobalAveragePooling1D"
      ],
      "metadata": {
        "id": "NiYxidNDVP2H"
      },
      "execution_count": 20,
      "outputs": []
    },
    {
      "cell_type": "code",
      "metadata": {
        "id": "8rEgVe3-jisb"
      },
      "source": [
        "\n",
        "def create_model(trainX, trainy):\n",
        "  n_timesteps, n_features, n_outputs = trainX.shape[1], trainX.shape[2], trainy.shape[1]\n",
        "  input_shape=(n_timesteps,n_features)\n",
        "  signal_input = Input(shape=input_shape, name='data')\n",
        "\n",
        "#<---------------------------------------------module 1 starts---------------------------------------->\n",
        "\n",
        "  layer_1_Just = Conv1D(filters=10,  kernel_size=1, padding='same', activation='relu')(signal_input) #with 1x1 conv\n",
        "\n",
        "  layer_1_a = MaxPooling1D(pool_size=1, padding='same')(signal_input) # pooling\n",
        "  layer_Max_a = Conv1D(10,  kernel_size=1, padding='same', activation='relu')(layer_1_a) # with 1x1\n",
        "\n",
        "  layer_1_a = Conv1D(filters=10,  kernel_size=1, padding='same', activation='relu')(signal_input) #with 1x1 conv\n",
        "  layer_1_a = Conv1D(filters=10,  kernel_size=3, padding='same', activation='relu')(layer_1_a) # with 1x3\n",
        "\n",
        "  layer_2_a = Conv1D(10,  kernel_size=1, padding='same', activation='relu')(signal_input) #with 1x1\n",
        "  layer_2_a = Conv1D(10,  kernel_size=5, padding='same', activation='relu')(layer_2_a)#with 1x5\n",
        "\n",
        "  layer_3_a = Conv1D(10,  kernel_size=1, padding='same', activation='relu')(signal_input) #with 1x1\n",
        "  layer_3_a = Conv1D(10,  kernel_size=7, padding='same', activation='relu')(layer_3_a) #with 1x7\n",
        "\n",
        "  layer_4_a = Conv1D(10,  kernel_size=1, padding='same', activation='relu')(signal_input) #with 1x1\n",
        "  layer_4_a = Conv1D(10,  kernel_size=9, padding='same', activation='relu')(layer_4_a) #with 1x9\n",
        "\n",
        "  mid_1_a = concatenate([layer_Max_a,layer_1_Just,layer_1_a, layer_2_a,layer_3_a,layer_4_a], axis = 2)\n",
        "  mid_1_a=Conv1D(filters=64,  kernel_size=1, padding='same', activation='relu')(mid_1_a)\n",
        "\n",
        "  input2SameDie=Conv1D(filters=64,  kernel_size=1, padding='same', activation='relu')(signal_input)\n",
        "  after_addition1=add([mid_1_a,input2SameDie])\n",
        "  drop0=Dropout(0.25)(after_addition1)\n",
        "  bn1=BatchNormalization()(drop0)\n",
        "#<----------------------------------------------module 1 ends here----------------------------->\n",
        "\n",
        "#<----------------------------------------------module 2 starts---------------------------------------->\n",
        "\n",
        "  layer_2_Just = Conv1D(filters=10,  kernel_size=1, padding='same', activation='relu')(bn1) #with 1x1 conv\n",
        "\n",
        "  layer_2_a = MaxPooling1D(pool_size=1, padding='same')(bn1) # pooling\n",
        "  layer_Max_a_2 = Conv1D(10,  kernel_size=1, padding='same', activation='relu')(layer_2_a) # with 1x1\n",
        "\n",
        "  layer_1_a = Conv1D(filters=10,  kernel_size=1, padding='same', activation='relu')(bn1) #with 1x1 conv\n",
        "  layer_1_a = Conv1D(filters=10,  kernel_size=3, padding='same', activation='relu',name='1x3_a')(layer_1_a) # with 1x3\n",
        "\n",
        "  layer_2_a = Conv1D(10,  kernel_size=1, padding='same', activation='relu')(bn1) #with 1x1\n",
        "  layer_2_a = Conv1D(10,  kernel_size=5, padding='same', activation='relu')(layer_2_a)#with 1x5\n",
        "\n",
        "  layer_3_a = Conv1D(10,  kernel_size=1, padding='same', activation='relu')(bn1) #with 1x1\n",
        "  layer_3_a = Conv1D(10,  kernel_size=7, padding='same', activation='relu')(layer_3_a) #with 1x7\n",
        "\n",
        "  layer_4_a = Conv1D(10,  kernel_size=1, padding='same', activation='relu')(bn1) #with 1x1\n",
        "  layer_4_a = Conv1D(10,  kernel_size=9, padding='same', activation='relu')(layer_3_a) #with 1x7\n",
        "\n",
        "  mid_1_a = concatenate([layer_Max_a_2,layer_2_Just,layer_1_a, layer_2_a,layer_3_a,layer_4_a], axis = 2)\n",
        "  mid_1_a=Conv1D(filters=64,  kernel_size=1, padding='same', activation='relu')(mid_1_a)\n",
        "\n",
        "  input2SameDie=Conv1D(filters=64,  kernel_size=1, padding='same', activation='relu')(after_addition1)\n",
        "  after_addition2=add([mid_1_a,input2SameDie])\n",
        "  drop1=Dropout(0.25)(after_addition2)\n",
        "  bn2=BatchNormalization()(drop1)\n",
        "\n",
        "#<----------------------------------------------module 2 ends here---------------------------------------->\n",
        "\n",
        "  ShapeSameRawInput=Conv1D(filters=64,  kernel_size=1, padding='same', activation='relu')(signal_input)\n",
        "  FeaturesCon= concatenate([ShapeSameRawInput,bn2], axis = 2)\n",
        "\n",
        "#-----------------------------------------Dense link----------------------------------------------------->\n",
        "\n",
        "#<==//-//-//-//-//-//-//-//- CNN feature extraction Completed//-//-//-//-//-//-//-//-//-//==>\n",
        "\n",
        "  rnn1=Bidirectional(GRU(128))(FeaturesCon) # GRU with 128 neurons\n",
        "  bn3=BatchNormalization()(rnn1)\n",
        "\n",
        "#<==//-//-//-//-//-//-//-//- RNN feature extraction Completed//-//-//-//-//-//-//-//-//-//==>\n",
        "\n",
        "  flat_1 = Flatten()(bn3) # Flatting\n",
        "  drop3=Dropout(0.25)(flat_1)\n",
        "\n",
        "  dense_1 = Dense(512, activation='relu')(drop3)#Fully Connected\n",
        "  drop4=Dropout(0.25)(dense_1)\n",
        "\n",
        "  out = Dense(n_outputs, activation='softmax', name='predictions')(drop4) # Prediction\n",
        "\n",
        "  rez = Model(inputs=signal_input, outputs=out)\n",
        "  return rez"
      ],
      "execution_count": 28,
      "outputs": []
    },
    {
      "cell_type": "code",
      "metadata": {
        "id": "BW_3y983sFp3"
      },
      "source": [
        "model=create_model(X_train, y_train)"
      ],
      "execution_count": 29,
      "outputs": []
    },
    {
      "cell_type": "code",
      "metadata": {
        "id": "0EEuqY643mz2",
        "colab": {
          "base_uri": "https://localhost:8080/"
        },
        "outputId": "f62a0e95-5f3f-42a2-bce9-a827c0f4aea2"
      },
      "source": [
        "print (model)\n",
        "model.summary()"
      ],
      "execution_count": 30,
      "outputs": [
        {
          "output_type": "stream",
          "name": "stdout",
          "text": [
            "<keras.src.engine.functional.Functional object at 0x7a08812b0130>\n",
            "Model: \"model\"\n",
            "__________________________________________________________________________________________________\n",
            " Layer (type)                Output Shape                 Param #   Connected to                  \n",
            "==================================================================================================\n",
            " data (InputLayer)           [(None, 256, 1)]             0         []                            \n",
            "                                                                                                  \n",
            " max_pooling1d_3 (MaxPoolin  (None, 256, 1)               0         ['data[0][0]']                \n",
            " g1D)                                                                                             \n",
            "                                                                                                  \n",
            " conv1d_32 (Conv1D)          (None, 256, 10)              20        ['data[0][0]']                \n",
            "                                                                                                  \n",
            " conv1d_34 (Conv1D)          (None, 256, 10)              20        ['data[0][0]']                \n",
            "                                                                                                  \n",
            " conv1d_36 (Conv1D)          (None, 256, 10)              20        ['data[0][0]']                \n",
            "                                                                                                  \n",
            " conv1d_38 (Conv1D)          (None, 256, 10)              20        ['data[0][0]']                \n",
            "                                                                                                  \n",
            " conv1d_31 (Conv1D)          (None, 256, 10)              20        ['max_pooling1d_3[0][0]']     \n",
            "                                                                                                  \n",
            " conv1d_30 (Conv1D)          (None, 256, 10)              20        ['data[0][0]']                \n",
            "                                                                                                  \n",
            " conv1d_33 (Conv1D)          (None, 256, 10)              310       ['conv1d_32[0][0]']           \n",
            "                                                                                                  \n",
            " conv1d_35 (Conv1D)          (None, 256, 10)              510       ['conv1d_34[0][0]']           \n",
            "                                                                                                  \n",
            " conv1d_37 (Conv1D)          (None, 256, 10)              710       ['conv1d_36[0][0]']           \n",
            "                                                                                                  \n",
            " conv1d_39 (Conv1D)          (None, 256, 10)              910       ['conv1d_38[0][0]']           \n",
            "                                                                                                  \n",
            " concatenate (Concatenate)   (None, 256, 60)              0         ['conv1d_31[0][0]',           \n",
            "                                                                     'conv1d_30[0][0]',           \n",
            "                                                                     'conv1d_33[0][0]',           \n",
            "                                                                     'conv1d_35[0][0]',           \n",
            "                                                                     'conv1d_37[0][0]',           \n",
            "                                                                     'conv1d_39[0][0]']           \n",
            "                                                                                                  \n",
            " conv1d_40 (Conv1D)          (None, 256, 64)              3904      ['concatenate[0][0]']         \n",
            "                                                                                                  \n",
            " conv1d_41 (Conv1D)          (None, 256, 64)              128       ['data[0][0]']                \n",
            "                                                                                                  \n",
            " add (Add)                   (None, 256, 64)              0         ['conv1d_40[0][0]',           \n",
            "                                                                     'conv1d_41[0][0]']           \n",
            "                                                                                                  \n",
            " dropout (Dropout)           (None, 256, 64)              0         ['add[0][0]']                 \n",
            "                                                                                                  \n",
            " batch_normalization (Batch  (None, 256, 64)              256       ['dropout[0][0]']             \n",
            " Normalization)                                                                                   \n",
            "                                                                                                  \n",
            " conv1d_47 (Conv1D)          (None, 256, 10)              650       ['batch_normalization[0][0]'] \n",
            "                                                                                                  \n",
            " max_pooling1d_4 (MaxPoolin  (None, 256, 64)              0         ['batch_normalization[0][0]'] \n",
            " g1D)                                                                                             \n",
            "                                                                                                  \n",
            " conv1d_44 (Conv1D)          (None, 256, 10)              650       ['batch_normalization[0][0]'] \n",
            "                                                                                                  \n",
            " conv1d_45 (Conv1D)          (None, 256, 10)              650       ['batch_normalization[0][0]'] \n",
            "                                                                                                  \n",
            " conv1d_48 (Conv1D)          (None, 256, 10)              710       ['conv1d_47[0][0]']           \n",
            "                                                                                                  \n",
            " conv1d_43 (Conv1D)          (None, 256, 10)              650       ['max_pooling1d_4[0][0]']     \n",
            "                                                                                                  \n",
            " conv1d_42 (Conv1D)          (None, 256, 10)              650       ['batch_normalization[0][0]'] \n",
            "                                                                                                  \n",
            " 1x3_a (Conv1D)              (None, 256, 10)              310       ['conv1d_44[0][0]']           \n",
            "                                                                                                  \n",
            " conv1d_46 (Conv1D)          (None, 256, 10)              510       ['conv1d_45[0][0]']           \n",
            "                                                                                                  \n",
            " conv1d_50 (Conv1D)          (None, 256, 10)              910       ['conv1d_48[0][0]']           \n",
            "                                                                                                  \n",
            " concatenate_1 (Concatenate  (None, 256, 60)              0         ['conv1d_43[0][0]',           \n",
            " )                                                                   'conv1d_42[0][0]',           \n",
            "                                                                     '1x3_a[0][0]',               \n",
            "                                                                     'conv1d_46[0][0]',           \n",
            "                                                                     'conv1d_48[0][0]',           \n",
            "                                                                     'conv1d_50[0][0]']           \n",
            "                                                                                                  \n",
            " conv1d_51 (Conv1D)          (None, 256, 64)              3904      ['concatenate_1[0][0]']       \n",
            "                                                                                                  \n",
            " conv1d_52 (Conv1D)          (None, 256, 64)              4160      ['add[0][0]']                 \n",
            "                                                                                                  \n",
            " add_1 (Add)                 (None, 256, 64)              0         ['conv1d_51[0][0]',           \n",
            "                                                                     'conv1d_52[0][0]']           \n",
            "                                                                                                  \n",
            " dropout_1 (Dropout)         (None, 256, 64)              0         ['add_1[0][0]']               \n",
            "                                                                                                  \n",
            " conv1d_53 (Conv1D)          (None, 256, 64)              128       ['data[0][0]']                \n",
            "                                                                                                  \n",
            " batch_normalization_1 (Bat  (None, 256, 64)              256       ['dropout_1[0][0]']           \n",
            " chNormalization)                                                                                 \n",
            "                                                                                                  \n",
            " concatenate_2 (Concatenate  (None, 256, 128)             0         ['conv1d_53[0][0]',           \n",
            " )                                                                   'batch_normalization_1[0][0]'\n",
            "                                                                    ]                             \n",
            "                                                                                                  \n",
            " bidirectional (Bidirection  (None, 256)                  198144    ['concatenate_2[0][0]']       \n",
            " al)                                                                                              \n",
            "                                                                                                  \n",
            " batch_normalization_2 (Bat  (None, 256)                  1024      ['bidirectional[0][0]']       \n",
            " chNormalization)                                                                                 \n",
            "                                                                                                  \n",
            " flatten (Flatten)           (None, 256)                  0         ['batch_normalization_2[0][0]'\n",
            "                                                                    ]                             \n",
            "                                                                                                  \n",
            " dropout_2 (Dropout)         (None, 256)                  0         ['flatten[0][0]']             \n",
            "                                                                                                  \n",
            " dense (Dense)               (None, 512)                  131584    ['dropout_2[0][0]']           \n",
            "                                                                                                  \n",
            " dropout_3 (Dropout)         (None, 512)                  0         ['dense[0][0]']               \n",
            "                                                                                                  \n",
            " predictions (Dense)         (None, 6)                    3078      ['dropout_3[0][0]']           \n",
            "                                                                                                  \n",
            "==================================================================================================\n",
            "Total params: 354816 (1.35 MB)\n",
            "Trainable params: 354048 (1.35 MB)\n",
            "Non-trainable params: 768 (3.00 KB)\n",
            "__________________________________________________________________________________________________\n"
          ]
        }
      ]
    },
    {
      "cell_type": "code",
      "metadata": {
        "id": "1dRQpBk41uvR"
      },
      "source": [
        "model.compile(loss='categorical_crossentropy', optimizer='Adam', metrics=['accuracy'])"
      ],
      "execution_count": 31,
      "outputs": []
    },
    {
      "cell_type": "code",
      "metadata": {
        "id": "pcF1MTjaaUwE"
      },
      "source": [
        "from keras.callbacks import EarlyStopping\n",
        "es = EarlyStopping(monitor='val_accuracy', mode='max', verbose=1)"
      ],
      "execution_count": 32,
      "outputs": []
    },
    {
      "cell_type": "code",
      "metadata": {
        "id": "DaOyLiDe4ffL",
        "colab": {
          "base_uri": "https://localhost:8080/"
        },
        "outputId": "d52cd5df-9c09-4978-c805-156b5196efa8"
      },
      "source": [
        "verbose, epochs, batch_size = 0, 90, 120\n",
        "history=model.fit(X_train, y_train,validation_data=(X_test, y_test), epochs=epochs, batch_size=batch_size, verbose=1)#,callbacks=[es])"
      ],
      "execution_count": 33,
      "outputs": [
        {
          "output_type": "stream",
          "name": "stdout",
          "text": [
            "Epoch 1/90\n",
            "383/383 [==============================] - 52s 73ms/step - loss: 0.4908 - accuracy: 0.8023 - val_loss: 0.3065 - val_accuracy: 0.8654\n",
            "Epoch 2/90\n",
            "383/383 [==============================] - 21s 56ms/step - loss: 0.1781 - accuracy: 0.9221 - val_loss: 0.1602 - val_accuracy: 0.9298\n",
            "Epoch 3/90\n",
            "383/383 [==============================] - 21s 54ms/step - loss: 0.1333 - accuracy: 0.9427 - val_loss: 0.1418 - val_accuracy: 0.9417\n",
            "Epoch 4/90\n",
            "383/383 [==============================] - 20s 52ms/step - loss: 0.1202 - accuracy: 0.9479 - val_loss: 0.1030 - val_accuracy: 0.9555\n",
            "Epoch 5/90\n",
            "383/383 [==============================] - 22s 58ms/step - loss: 0.1046 - accuracy: 0.9551 - val_loss: 0.1243 - val_accuracy: 0.9513\n",
            "Epoch 6/90\n",
            "383/383 [==============================] - 21s 54ms/step - loss: 0.1001 - accuracy: 0.9557 - val_loss: 0.1434 - val_accuracy: 0.9491\n",
            "Epoch 7/90\n",
            "383/383 [==============================] - 20s 52ms/step - loss: 0.0941 - accuracy: 0.9593 - val_loss: 0.0894 - val_accuracy: 0.9625\n",
            "Epoch 8/90\n",
            "383/383 [==============================] - 22s 59ms/step - loss: 0.0860 - accuracy: 0.9625 - val_loss: 0.0877 - val_accuracy: 0.9570\n",
            "Epoch 9/90\n",
            "383/383 [==============================] - 23s 59ms/step - loss: 0.0826 - accuracy: 0.9625 - val_loss: 0.0772 - val_accuracy: 0.9651\n",
            "Epoch 10/90\n",
            "383/383 [==============================] - 23s 60ms/step - loss: 0.0752 - accuracy: 0.9654 - val_loss: 0.0749 - val_accuracy: 0.9594\n",
            "Epoch 11/90\n",
            "383/383 [==============================] - 20s 53ms/step - loss: 0.0748 - accuracy: 0.9673 - val_loss: 0.1017 - val_accuracy: 0.9592\n",
            "Epoch 12/90\n",
            "383/383 [==============================] - 20s 52ms/step - loss: 0.0724 - accuracy: 0.9678 - val_loss: 0.0770 - val_accuracy: 0.9655\n",
            "Epoch 13/90\n",
            "383/383 [==============================] - 20s 52ms/step - loss: 0.0702 - accuracy: 0.9684 - val_loss: 0.0660 - val_accuracy: 0.9717\n",
            "Epoch 14/90\n",
            "383/383 [==============================] - 22s 58ms/step - loss: 0.0679 - accuracy: 0.9703 - val_loss: 0.0697 - val_accuracy: 0.9687\n",
            "Epoch 15/90\n",
            "383/383 [==============================] - 22s 58ms/step - loss: 0.0583 - accuracy: 0.9750 - val_loss: 0.0667 - val_accuracy: 0.9708\n",
            "Epoch 16/90\n",
            "383/383 [==============================] - 22s 58ms/step - loss: 0.0638 - accuracy: 0.9729 - val_loss: 0.0754 - val_accuracy: 0.9673\n",
            "Epoch 17/90\n",
            "383/383 [==============================] - 20s 53ms/step - loss: 0.0576 - accuracy: 0.9749 - val_loss: 0.0648 - val_accuracy: 0.9740\n",
            "Epoch 18/90\n",
            "383/383 [==============================] - 22s 59ms/step - loss: 0.0548 - accuracy: 0.9773 - val_loss: 0.0556 - val_accuracy: 0.9759\n",
            "Epoch 19/90\n",
            "383/383 [==============================] - 20s 53ms/step - loss: 0.0543 - accuracy: 0.9778 - val_loss: 0.0640 - val_accuracy: 0.9752\n",
            "Epoch 20/90\n",
            "383/383 [==============================] - 20s 54ms/step - loss: 0.0485 - accuracy: 0.9796 - val_loss: 0.0569 - val_accuracy: 0.9766\n",
            "Epoch 21/90\n",
            "383/383 [==============================] - 23s 59ms/step - loss: 0.0495 - accuracy: 0.9799 - val_loss: 0.0640 - val_accuracy: 0.9739\n",
            "Epoch 22/90\n",
            "383/383 [==============================] - 23s 59ms/step - loss: 0.0499 - accuracy: 0.9802 - val_loss: 0.0592 - val_accuracy: 0.9747\n",
            "Epoch 23/90\n",
            "383/383 [==============================] - 23s 59ms/step - loss: 0.0498 - accuracy: 0.9799 - val_loss: 0.0592 - val_accuracy: 0.9772\n",
            "Epoch 24/90\n",
            "383/383 [==============================] - 23s 59ms/step - loss: 0.0438 - accuracy: 0.9822 - val_loss: 0.0559 - val_accuracy: 0.9774\n",
            "Epoch 25/90\n",
            "383/383 [==============================] - 23s 59ms/step - loss: 0.0489 - accuracy: 0.9799 - val_loss: 0.0856 - val_accuracy: 0.9674\n",
            "Epoch 26/90\n",
            "383/383 [==============================] - 23s 59ms/step - loss: 0.0405 - accuracy: 0.9830 - val_loss: 0.0621 - val_accuracy: 0.9788\n",
            "Epoch 27/90\n",
            "383/383 [==============================] - 20s 53ms/step - loss: 0.0429 - accuracy: 0.9819 - val_loss: 0.0520 - val_accuracy: 0.9796\n",
            "Epoch 28/90\n",
            "383/383 [==============================] - 20s 53ms/step - loss: 0.0425 - accuracy: 0.9824 - val_loss: 0.0521 - val_accuracy: 0.9811\n",
            "Epoch 29/90\n",
            "383/383 [==============================] - 23s 59ms/step - loss: 0.0400 - accuracy: 0.9836 - val_loss: 0.0601 - val_accuracy: 0.9787\n",
            "Epoch 30/90\n",
            "383/383 [==============================] - 20s 53ms/step - loss: 0.0397 - accuracy: 0.9838 - val_loss: 0.0736 - val_accuracy: 0.9751\n",
            "Epoch 31/90\n",
            "383/383 [==============================] - 23s 59ms/step - loss: 0.0394 - accuracy: 0.9843 - val_loss: 0.0526 - val_accuracy: 0.9795\n",
            "Epoch 32/90\n",
            "383/383 [==============================] - 20s 53ms/step - loss: 0.0340 - accuracy: 0.9861 - val_loss: 0.0617 - val_accuracy: 0.9794\n",
            "Epoch 33/90\n",
            "383/383 [==============================] - 23s 59ms/step - loss: 0.0366 - accuracy: 0.9845 - val_loss: 0.0559 - val_accuracy: 0.9808\n",
            "Epoch 34/90\n",
            "383/383 [==============================] - 20s 53ms/step - loss: 0.0387 - accuracy: 0.9838 - val_loss: 0.0527 - val_accuracy: 0.9793\n",
            "Epoch 35/90\n",
            "383/383 [==============================] - 23s 59ms/step - loss: 0.0323 - accuracy: 0.9864 - val_loss: 0.0559 - val_accuracy: 0.9792\n",
            "Epoch 36/90\n",
            "383/383 [==============================] - 22s 59ms/step - loss: 0.0377 - accuracy: 0.9853 - val_loss: 0.0597 - val_accuracy: 0.9771\n",
            "Epoch 37/90\n",
            "383/383 [==============================] - 20s 53ms/step - loss: 0.0379 - accuracy: 0.9848 - val_loss: 0.0494 - val_accuracy: 0.9806\n",
            "Epoch 38/90\n",
            "383/383 [==============================] - 23s 59ms/step - loss: 0.0362 - accuracy: 0.9853 - val_loss: 0.0507 - val_accuracy: 0.9813\n",
            "Epoch 39/90\n",
            "383/383 [==============================] - 21s 54ms/step - loss: 0.0322 - accuracy: 0.9869 - val_loss: 0.0530 - val_accuracy: 0.9795\n",
            "Epoch 40/90\n",
            "383/383 [==============================] - 20s 53ms/step - loss: 0.0302 - accuracy: 0.9880 - val_loss: 0.0791 - val_accuracy: 0.9726\n",
            "Epoch 41/90\n",
            "383/383 [==============================] - 20s 53ms/step - loss: 0.0317 - accuracy: 0.9873 - val_loss: 0.0510 - val_accuracy: 0.9814\n",
            "Epoch 42/90\n",
            "383/383 [==============================] - 22s 58ms/step - loss: 0.0303 - accuracy: 0.9881 - val_loss: 0.0444 - val_accuracy: 0.9819\n",
            "Epoch 43/90\n",
            "383/383 [==============================] - 22s 58ms/step - loss: 0.0278 - accuracy: 0.9892 - val_loss: 0.0538 - val_accuracy: 0.9816\n",
            "Epoch 44/90\n",
            "383/383 [==============================] - 22s 59ms/step - loss: 0.0315 - accuracy: 0.9876 - val_loss: 0.0411 - val_accuracy: 0.9834\n",
            "Epoch 45/90\n",
            "383/383 [==============================] - 20s 52ms/step - loss: 0.0272 - accuracy: 0.9892 - val_loss: 0.0414 - val_accuracy: 0.9854\n",
            "Epoch 46/90\n",
            "383/383 [==============================] - 20s 52ms/step - loss: 0.0253 - accuracy: 0.9901 - val_loss: 0.0543 - val_accuracy: 0.9816\n",
            "Epoch 47/90\n",
            "383/383 [==============================] - 20s 52ms/step - loss: 0.0289 - accuracy: 0.9885 - val_loss: 0.0565 - val_accuracy: 0.9810\n",
            "Epoch 48/90\n",
            "383/383 [==============================] - 22s 58ms/step - loss: 0.0271 - accuracy: 0.9901 - val_loss: 0.0533 - val_accuracy: 0.9820\n",
            "Epoch 49/90\n",
            "383/383 [==============================] - 20s 52ms/step - loss: 0.0252 - accuracy: 0.9901 - val_loss: 0.0469 - val_accuracy: 0.9834\n",
            "Epoch 50/90\n",
            "383/383 [==============================] - 21s 54ms/step - loss: 0.0272 - accuracy: 0.9899 - val_loss: 0.0443 - val_accuracy: 0.9838\n",
            "Epoch 51/90\n",
            "383/383 [==============================] - 23s 59ms/step - loss: 0.0229 - accuracy: 0.9916 - val_loss: 0.0469 - val_accuracy: 0.9836\n",
            "Epoch 52/90\n",
            "383/383 [==============================] - 20s 53ms/step - loss: 0.0257 - accuracy: 0.9907 - val_loss: 0.0522 - val_accuracy: 0.9834\n",
            "Epoch 53/90\n",
            "383/383 [==============================] - 23s 59ms/step - loss: 0.0259 - accuracy: 0.9897 - val_loss: 0.0437 - val_accuracy: 0.9838\n",
            "Epoch 54/90\n",
            "383/383 [==============================] - 23s 59ms/step - loss: 0.0245 - accuracy: 0.9906 - val_loss: 0.0514 - val_accuracy: 0.9831\n",
            "Epoch 55/90\n",
            "383/383 [==============================] - 20s 53ms/step - loss: 0.0246 - accuracy: 0.9908 - val_loss: 0.0613 - val_accuracy: 0.9815\n",
            "Epoch 56/90\n",
            "383/383 [==============================] - 20s 53ms/step - loss: 0.0248 - accuracy: 0.9906 - val_loss: 0.0455 - val_accuracy: 0.9832\n",
            "Epoch 57/90\n",
            "383/383 [==============================] - 20s 53ms/step - loss: 0.0226 - accuracy: 0.9911 - val_loss: 0.0471 - val_accuracy: 0.9842\n",
            "Epoch 58/90\n",
            "383/383 [==============================] - 20s 53ms/step - loss: 0.0217 - accuracy: 0.9919 - val_loss: 0.0411 - val_accuracy: 0.9861\n",
            "Epoch 59/90\n",
            "383/383 [==============================] - 20s 53ms/step - loss: 0.0175 - accuracy: 0.9932 - val_loss: 0.0565 - val_accuracy: 0.9818\n",
            "Epoch 60/90\n",
            "383/383 [==============================] - 23s 59ms/step - loss: 0.0228 - accuracy: 0.9913 - val_loss: 0.0439 - val_accuracy: 0.9857\n",
            "Epoch 61/90\n",
            "383/383 [==============================] - 23s 59ms/step - loss: 0.0203 - accuracy: 0.9922 - val_loss: 0.0412 - val_accuracy: 0.9866\n",
            "Epoch 62/90\n",
            "383/383 [==============================] - 23s 59ms/step - loss: 0.0218 - accuracy: 0.9918 - val_loss: 0.0550 - val_accuracy: 0.9831\n",
            "Epoch 63/90\n",
            "383/383 [==============================] - 23s 59ms/step - loss: 0.0204 - accuracy: 0.9922 - val_loss: 0.0507 - val_accuracy: 0.9842\n",
            "Epoch 64/90\n",
            "383/383 [==============================] - 20s 53ms/step - loss: 0.0213 - accuracy: 0.9921 - val_loss: 0.0371 - val_accuracy: 0.9859\n",
            "Epoch 65/90\n",
            "383/383 [==============================] - 20s 53ms/step - loss: 0.0202 - accuracy: 0.9922 - val_loss: 0.0513 - val_accuracy: 0.9829\n",
            "Epoch 66/90\n",
            "383/383 [==============================] - 20s 53ms/step - loss: 0.0265 - accuracy: 0.9912 - val_loss: 0.0370 - val_accuracy: 0.9876\n",
            "Epoch 67/90\n",
            "383/383 [==============================] - 23s 59ms/step - loss: 0.0229 - accuracy: 0.9914 - val_loss: 0.0577 - val_accuracy: 0.9770\n",
            "Epoch 68/90\n",
            "383/383 [==============================] - 20s 53ms/step - loss: 0.0226 - accuracy: 0.9919 - val_loss: 0.0405 - val_accuracy: 0.9861\n",
            "Epoch 69/90\n",
            "383/383 [==============================] - 20s 53ms/step - loss: 0.0190 - accuracy: 0.9932 - val_loss: 0.0477 - val_accuracy: 0.9843\n",
            "Epoch 70/90\n",
            "383/383 [==============================] - 23s 60ms/step - loss: 0.0184 - accuracy: 0.9933 - val_loss: 0.0481 - val_accuracy: 0.9859\n",
            "Epoch 71/90\n",
            "383/383 [==============================] - 23s 59ms/step - loss: 0.0209 - accuracy: 0.9925 - val_loss: 0.0463 - val_accuracy: 0.9853\n",
            "Epoch 72/90\n",
            "383/383 [==============================] - 20s 53ms/step - loss: 0.0202 - accuracy: 0.9925 - val_loss: 0.0622 - val_accuracy: 0.9813\n",
            "Epoch 73/90\n",
            "383/383 [==============================] - 23s 59ms/step - loss: 0.0213 - accuracy: 0.9924 - val_loss: 0.0438 - val_accuracy: 0.9857\n",
            "Epoch 74/90\n",
            "383/383 [==============================] - 20s 53ms/step - loss: 0.0161 - accuracy: 0.9939 - val_loss: 0.0402 - val_accuracy: 0.9881\n",
            "Epoch 75/90\n",
            "383/383 [==============================] - 20s 53ms/step - loss: 0.0192 - accuracy: 0.9928 - val_loss: 0.0408 - val_accuracy: 0.9868\n",
            "Epoch 76/90\n",
            "383/383 [==============================] - 23s 59ms/step - loss: 0.0179 - accuracy: 0.9934 - val_loss: 0.0456 - val_accuracy: 0.9852\n",
            "Epoch 77/90\n",
            "383/383 [==============================] - 20s 53ms/step - loss: 0.0177 - accuracy: 0.9932 - val_loss: 0.0527 - val_accuracy: 0.9842\n",
            "Epoch 78/90\n",
            "383/383 [==============================] - 20s 53ms/step - loss: 0.0227 - accuracy: 0.9919 - val_loss: 0.0395 - val_accuracy: 0.9870\n",
            "Epoch 79/90\n",
            "383/383 [==============================] - 23s 59ms/step - loss: 0.0175 - accuracy: 0.9937 - val_loss: 0.0402 - val_accuracy: 0.9873\n",
            "Epoch 80/90\n",
            "383/383 [==============================] - 23s 60ms/step - loss: 0.0187 - accuracy: 0.9935 - val_loss: 0.0462 - val_accuracy: 0.9863\n",
            "Epoch 81/90\n",
            "383/383 [==============================] - 23s 59ms/step - loss: 0.0167 - accuracy: 0.9936 - val_loss: 0.0406 - val_accuracy: 0.9873\n",
            "Epoch 82/90\n",
            "383/383 [==============================] - 23s 59ms/step - loss: 0.0164 - accuracy: 0.9939 - val_loss: 0.0498 - val_accuracy: 0.9871\n",
            "Epoch 83/90\n",
            "383/383 [==============================] - 23s 59ms/step - loss: 0.0213 - accuracy: 0.9921 - val_loss: 0.0468 - val_accuracy: 0.9853\n",
            "Epoch 84/90\n",
            "383/383 [==============================] - 20s 53ms/step - loss: 0.0162 - accuracy: 0.9939 - val_loss: 0.0528 - val_accuracy: 0.9860\n",
            "Epoch 85/90\n",
            "383/383 [==============================] - 20s 53ms/step - loss: 0.0175 - accuracy: 0.9933 - val_loss: 0.0467 - val_accuracy: 0.9865\n",
            "Epoch 86/90\n",
            "383/383 [==============================] - 23s 59ms/step - loss: 0.0180 - accuracy: 0.9933 - val_loss: 0.0414 - val_accuracy: 0.9872\n",
            "Epoch 87/90\n",
            "383/383 [==============================] - 20s 53ms/step - loss: 0.0187 - accuracy: 0.9932 - val_loss: 0.0560 - val_accuracy: 0.9836\n",
            "Epoch 88/90\n",
            "383/383 [==============================] - 22s 58ms/step - loss: 0.0170 - accuracy: 0.9937 - val_loss: 0.0486 - val_accuracy: 0.9863\n",
            "Epoch 89/90\n",
            "383/383 [==============================] - 23s 60ms/step - loss: 0.0163 - accuracy: 0.9941 - val_loss: 0.0516 - val_accuracy: 0.9844\n",
            "Epoch 90/90\n",
            "383/383 [==============================] - 21s 54ms/step - loss: 0.0183 - accuracy: 0.9932 - val_loss: 0.0507 - val_accuracy: 0.9845\n"
          ]
        }
      ]
    },
    {
      "cell_type": "code",
      "metadata": {
        "id": "RTAtdS-vdAXD",
        "colab": {
          "base_uri": "https://localhost:8080/",
          "height": 434
        },
        "outputId": "6322992a-e4cb-4d68-a5d8-6493aa0cba19"
      },
      "source": [
        "pyplot.plot(history.history['loss'], label='train')\n",
        "pyplot.plot(history.history['val_loss'], label='test')\n",
        "pyplot.legend()\n",
        "pyplot.show()"
      ],
      "execution_count": 34,
      "outputs": [
        {
          "output_type": "display_data",
          "data": {
            "text/plain": [
              "<Figure size 640x480 with 1 Axes>"
            ],
            "image/png": "[encoded data removed]"
          },
          "metadata": {}
        }
      ]
    },
    {
      "cell_type": "code",
      "metadata": {
        "id": "OPD4CujFdANF",
        "colab": {
          "base_uri": "https://localhost:8080/",
          "height": 434
        },
        "outputId": "3b2a9410-b146-44f7-8bc6-36f77373eb50"
      },
      "source": [
        "pyplot.plot(history.history['accuracy'], label='train')\n",
        "pyplot.plot(history.history['val_accuracy'], label='test')\n",
        "pyplot.legend()\n",
        "pyplot.show()"
      ],
      "execution_count": 35,
      "outputs": [
        {
          "output_type": "display_data",
          "data": {
            "text/plain": [
              "<Figure size 640x480 with 1 Axes>"
            ],
            "image/png": "[encoded data removed]"
          },
          "metadata": {}
        }
      ]
    },
    {
      "cell_type": "code",
      "metadata": {
        "id": "Al1VLBL9EpRk",
        "colab": {
          "base_uri": "https://localhost:8080/"
        },
        "outputId": "fb355e51-5101-4f10-8172-b90177bba438"
      },
      "source": [
        "_, accuracy = model.evaluate(X_test, y_test, batch_size=batch_size, verbose=0)\n",
        "print (\"accuracy = \",accuracy*100)"
      ],
      "execution_count": 36,
      "outputs": [
        {
          "output_type": "stream",
          "name": "stdout",
          "text": [
            "accuracy =  98.44831228256226\n"
          ]
        }
      ]
    },
    {
      "cell_type": "code",
      "metadata": {
        "id": "zCy0u78REcdh",
        "colab": {
          "base_uri": "https://localhost:8080/"
        },
        "outputId": "a0117998-38c8-4085-cf2b-f5207d0d6cd3"
      },
      "source": [
        "_, accuracy = model.evaluate(X_train, y_train, batch_size=batch_size, verbose=0)\n",
        "print (\"accuracy = \",accuracy*100)"
      ],
      "execution_count": 37,
      "outputs": [
        {
          "output_type": "stream",
          "name": "stdout",
          "text": [
            "accuracy =  99.36551451683044\n"
          ]
        }
      ]
    },
    {
      "cell_type": "markdown",
      "metadata": {
        "id": "HvlHnDFir5ir"
      },
      "source": [
        "# Confusion Matrix"
      ]
    },
    {
      "cell_type": "code",
      "metadata": {
        "id": "IAniEVOHrtRW"
      },
      "source": [
        "labels=['sad',\n",
        "          'disgust',\n",
        "          'fear',\n",
        "          'happy',\n",
        "          'surprise',\n",
        "          'anger']"
      ],
      "execution_count": 38,
      "outputs": []
    },
    {
      "cell_type": "code",
      "metadata": {
        "id": "teCLndF_rrFh"
      },
      "source": [
        "import pandas as pd\n",
        "import seaborn as sn\n",
        "import matplotlib.pyplot as plt\n",
        "from sklearn.metrics import confusion_matrix\n",
        "# create a confusion matrix to visually represent incorrectly classified images\n",
        "def plot_confusion_matrix(y_true, y_pred, classes, out_path=\"\"):\n",
        "    cm = confusion_matrix(y_true, y_pred)\n",
        "    df_cm = pd.DataFrame(cm, index=[i for i in classes], columns=[i for i in classes])\n",
        "    plt.figure(figsize=(6, 6))\n",
        "    ax = sn.heatmap(df_cm, annot=True, square=True, fmt=\"d\", linewidths=.2 ,cbar_kws={\"shrink\": 0.8})\n",
        "    return ax"
      ],
      "execution_count": 39,
      "outputs": []
    },
    {
      "cell_type": "code",
      "metadata": {
        "id": "aEIIXHP-rtzv",
        "colab": {
          "base_uri": "https://localhost:8080/",
          "height": 473
        },
        "outputId": "15177ebc-462f-47de-87e1-1b7ed45be077"
      },
      "source": [
        "y_pred=model.predict(X_test)\n",
        "plot_confusion_matrix(y_test.argmax(axis=1),y_pred.argmax(axis=1),labels)"
      ],
      "execution_count": 40,
      "outputs": [
        {
          "output_type": "stream",
          "name": "stdout",
          "text": [
            "615/615 [==============================] - 8s 11ms/step\n"
          ]
        },
        {
          "output_type": "execute_result",
          "data": {
            "text/plain": [
              "<Axes: >"
            ]
          },
          "metadata": {},
          "execution_count": 40
        },
        {
          "output_type": "display_data",
          "data": {
            "text/plain": [
              "<Figure size 600x600 with 2 Axes>"
            ],
            "image/png": "[encoded data removed]"
          },
          "metadata": {}
        }
      ]
    },
    {
      "cell_type": "code",
      "metadata": {
        "id": "qLHiJQVHWlkn",
        "colab": {
          "base_uri": "https://localhost:8080/",
          "height": 470
        },
        "outputId": "47081f6a-8e29-422f-8807-8e8cc188804e"
      },
      "source": [
        "from sklearn.metrics import classification_report\n",
        "import seaborn as sns\n",
        "y_pred=model.predict(X_test)\n",
        "report= classification_report(y_test.argmax(axis=1),y_pred.argmax(axis=1),target_names=labels,output_dict=True)\n",
        "#print (report)\n",
        "sns.heatmap(pd.DataFrame(report).iloc[:-1, :].T, annot=True)"
      ],
      "execution_count": 41,
      "outputs": [
        {
          "output_type": "stream",
          "name": "stdout",
          "text": [
            "615/615 [==============================] - 6s 9ms/step\n"
          ]
        },
        {
          "output_type": "execute_result",
          "data": {
            "text/plain": [
              "<Axes: >"
            ]
          },
          "metadata": {},
          "execution_count": 41
        },
        {
          "output_type": "display_data",
          "data": {
            "text/plain": [
              "<Figure size 640x480 with 2 Axes>"
            ],
            "image/png": "[encoded data removed]"
          },
          "metadata": {}
        }
      ]
    },
    {
      "cell_type": "code",
      "metadata": {
        "id": "uxmbU_51I9LP",
        "colab": {
          "base_uri": "https://localhost:8080/"
        },
        "outputId": "bba8c34a-e373-4d78-e738-6a1ceb6a599f"
      },
      "source": [
        "model.save(\"1DAccTrained_WISDM2011.h5\")"
      ],
      "execution_count": 42,
      "outputs": [
        {
          "output_type": "stream",
          "name": "stderr",
          "text": [
            "/usr/local/lib/python3.10/dist-packages/keras/src/engine/training.py:3103: UserWarning: You are saving your model as an HDF5 file via `model.save()`. This file format is considered legacy. We recommend using instead the native Keras format, e.g. `model.save('my_model.keras')`.\n",
            "  saving_api.save_model(\n"
          ]
        }
      ]
    }
  ]
}